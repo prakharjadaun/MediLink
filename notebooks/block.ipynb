{
 "cells": [
  {
   "cell_type": "code",
   "execution_count": 1,
   "metadata": {},
   "outputs": [],
   "source": [
    "import json\n",
    "import hashlib\n",
    "import os"
   ]
  },
  {
   "cell_type": "code",
   "execution_count": 56,
   "metadata": {},
   "outputs": [],
   "source": [
    "# # Function to create or load a blockchain JSON file\n",
    "# def initialize_blockchain():\n",
    "#     if not os.path.exists('blockchain.json'):\n",
    "#         with open('blockchain.json', 'w') as file:\n",
    "#             data = {}\n",
    "#             json.dump(data, file)"
   ]
  },
  {
   "cell_type": "code",
   "execution_count": 57,
   "metadata": {},
   "outputs": [],
   "source": [
    "# # Function to calculate hash for a block\n",
    "# def calculate_hash(block):\n",
    "#     block_string = json.dumps(block, sort_keys=True).encode()\n",
    "#     return hashlib.sha256(block_string).hexdigest()"
   ]
  },
  {
   "cell_type": "code",
   "execution_count": 58,
   "metadata": {},
   "outputs": [],
   "source": [
    "\n",
    "# # Function to load the blockchain from the JSON file\n",
    "# def load_blockchain():\n",
    "#     with open('blockchain.json', 'r') as file:\n",
    "#         return json.load(file)"
   ]
  },
  {
   "cell_type": "code",
   "execution_count": 59,
   "metadata": {},
   "outputs": [],
   "source": [
    "# # Function to save the blockchain to the JSON file\n",
    "# def save_blockchain(blockchain):\n",
    "#     with open('blockchain.json', 'w') as file:\n",
    "#         json.dump(blockchain, file)"
   ]
  },
  {
   "cell_type": "code",
   "execution_count": 60,
   "metadata": {},
   "outputs": [],
   "source": [
    "# # Function to create a new block for a user with prescribed medicine and date\n",
    "# def create_block(username, medicine, date):\n",
    "#     block = {\n",
    "#         'medicine': medicine,\n",
    "#         'date': date\n",
    "#     }\n",
    "\n",
    "#     blockchain = load_blockchain()\n",
    "#     user_chain = blockchain.get(username, [])\n",
    "\n",
    "#     previous_block = user_chain[-1] if user_chain else None\n",
    "\n",
    "#     if previous_block:\n",
    "#         block['previous_hash'] = calculate_hash(previous_block)\n",
    "#     else:\n",
    "#         block['previous_hash'] = None\n",
    "\n",
    "#     # block['hash'] = calculate_hash(block)\n",
    "#     user_chain.append(block)\n",
    "#     blockchain[username] = user_chain\n",
    "\n",
    "#     save_blockchain(blockchain)"
   ]
  },
  {
   "cell_type": "code",
   "execution_count": 61,
   "metadata": {},
   "outputs": [],
   "source": [
    "# # Function to get all blocks for a particular user\n",
    "# def get_user_blocks(username):\n",
    "#     blockchain = load_blockchain()\n",
    "#     return blockchain.get(username, None)"
   ]
  },
  {
   "cell_type": "code",
   "execution_count": 62,
   "metadata": {},
   "outputs": [],
   "source": [
    "# # Function to check the integrity of the blocks for a particular user\n",
    "# def temp_check_integrity(username):\n",
    "#     user_blocks = get_user_blocks(username)\n",
    "\n",
    "#     # if not user_blocks:\n",
    "#     #     return False\n",
    "\n",
    "#     j = len(user_blocks) - 1\n",
    "#     while j>0:\n",
    "#         current_block = user_blocks[j]\n",
    "#         previous_block = user_blocks[j - 1]\n",
    "\n",
    "#         if current_block['previous_hash'] != calculate_hash(previous_block):\n",
    "#             return False\n",
    "#         j = j-1\n",
    "\n",
    "#     return True"
   ]
  },
  {
   "cell_type": "code",
   "execution_count": 63,
   "metadata": {},
   "outputs": [],
   "source": [
    "\n",
    "# # Function to check the integrity of the blocks for a particular user\n",
    "# def check_integrity(username):\n",
    "#     user_blocks = get_user_blocks(username)\n",
    "\n",
    "#     if not user_blocks:\n",
    "#         return False\n",
    "\n",
    "#     for i in range(1, len(user_blocks)):\n",
    "#         current_block = user_blocks[i]\n",
    "#         previous_block = user_blocks[i - 1]\n",
    "\n",
    "#         if current_block['previous_hash'] != calculate_hash(previous_block):\n",
    "#             return False\n",
    "\n",
    "#     return True"
   ]
  },
  {
   "cell_type": "code",
   "execution_count": 64,
   "metadata": {},
   "outputs": [],
   "source": [
    "\n",
    "# Example usage\n",
    "# initialize_blockchain()"
   ]
  },
  {
   "cell_type": "code",
   "execution_count": 65,
   "metadata": {},
   "outputs": [],
   "source": [
    "# create_block('user1', 'Medicine A', '2023-12-01')"
   ]
  },
  {
   "cell_type": "code",
   "execution_count": 66,
   "metadata": {},
   "outputs": [],
   "source": [
    "# create_block('user1', 'Medicine B', '2023-12-02')"
   ]
  },
  {
   "cell_type": "code",
   "execution_count": 67,
   "metadata": {},
   "outputs": [
    {
     "name": "stdout",
     "output_type": "stream",
     "text": [
      "User1's Blocks: [{'medicine': 'Medicine A', 'date': '2023-12-01', 'previous_hash': None}, {'medicine': 'Medicine B', 'date': '2023-12-02', 'previous_hash': '36f6c601a2b692cc3b7e2640ad447dc3b4bc6490a595b4c15e5a30f80b9eb190'}]\n"
     ]
    }
   ],
   "source": [
    "# user1_blocks = get_user_blocks('user1')\n",
    "# print(\"User1's Blocks:\", user1_blocks)"
   ]
  },
  {
   "cell_type": "code",
   "execution_count": 70,
   "metadata": {},
   "outputs": [
    {
     "name": "stdout",
     "output_type": "stream",
     "text": [
      "Integrity Check for User1's Blocks: True\n"
     ]
    }
   ],
   "source": [
    "# integrity_check = temp_check_integrity('user1')\n",
    "# print(\"Integrity Check for User1's Blocks:\", integrity_check)"
   ]
  },
  {
   "cell_type": "code",
   "execution_count": 71,
   "metadata": {},
   "outputs": [],
   "source": [
    "# create_block('user2', 'Medicine B', '2022-12-02')"
   ]
  },
  {
   "cell_type": "code",
   "execution_count": 7,
   "metadata": {},
   "outputs": [],
   "source": [
    "class MedBlockchain:\n",
    "    def __init__(self):\n",
    "        if not os.path.exists('blockchain.json'):\n",
    "            with open('blockchain.json', 'w') as file:\n",
    "                data = {}\n",
    "                json.dump(data, file)\n",
    "    \n",
    "    def calculateHash(self,block):\n",
    "        block_string = json.dumps(block, sort_keys=True).encode()\n",
    "        return hashlib.sha256(block_string).hexdigest()\n",
    "\n",
    "    def loadBlockchain(self):\n",
    "        with open('blockchain.json', 'r') as file:\n",
    "            return json.load(file)\n",
    "    \n",
    "    def saveBlockchain(self,blockchain):\n",
    "        with open('blockchain.json', 'w') as file:\n",
    "            json.dump(blockchain, file)\n",
    "\n",
    "    def createBlock(self,username, medicine, date):\n",
    "        block = {\n",
    "            'medicine': medicine,\n",
    "            'date': date\n",
    "        }\n",
    "\n",
    "        blockchain = self.loadBlockchain()\n",
    "        user_chain = blockchain.get(username, [])\n",
    "\n",
    "        previous_block = user_chain[-1] if user_chain else None\n",
    "\n",
    "        if previous_block:\n",
    "            block['previous_hash'] = self.calculateHash(previous_block)\n",
    "        else:\n",
    "            block['previous_hash'] = None\n",
    "\n",
    "        # block['hash'] = calculate_hash(block)\n",
    "        user_chain.append(block)\n",
    "        blockchain[username] = user_chain\n",
    "\n",
    "        self.saveBlockchain(blockchain)\n",
    "        return self.calculateHash(block)\n",
    "        \n",
    "    def getUserBlocks(self,username):\n",
    "        blockchain = self.loadBlockchain()\n",
    "        return blockchain.get(username, [])\n",
    "\n",
    "    def checkIntegrity(self,username,lastHash):\n",
    "        userBlock = self.getUserBlocks(username)\n",
    "\n",
    "        if not userBlock:\n",
    "            return False\n",
    "        \n",
    "        j = len(userBlock)\n",
    "        while j>0:\n",
    "            if j==len(userBlock):\n",
    "                if lastHash!=self.calculateHash(userBlock[j-1]):\n",
    "                    return False\n",
    "            else:\n",
    "                if userBlock[j]['previous_hash'] != self.calculateHash(userBlock[j-1]):\n",
    "                    return False\n",
    "            \n",
    "            j = j - 1\n",
    "\n",
    "        return True"
   ]
  },
  {
   "cell_type": "code",
   "execution_count": 8,
   "metadata": {},
   "outputs": [],
   "source": [
    "med = MedBlockchain()"
   ]
  },
  {
   "cell_type": "code",
   "execution_count": 9,
   "metadata": {},
   "outputs": [],
   "source": [
    "lastHash = med.createBlock('user1','Med asA','12-01')"
   ]
  },
  {
   "cell_type": "code",
   "execution_count": 10,
   "metadata": {},
   "outputs": [],
   "source": [
    "lastHash = med.createBlock('user1','Med B','12-02')"
   ]
  },
  {
   "cell_type": "code",
   "execution_count": 11,
   "metadata": {},
   "outputs": [
    {
     "data": {
      "text/plain": [
       "[{'medicine': 'Med asA', 'date': '12-01', 'previous_hash': None},\n",
       " {'medicine': 'Med B',\n",
       "  'date': '12-02',\n",
       "  'previous_hash': '052ec8a07e35a59a5346f985cbac7ab91038a6926a5b99376f9e1aa187499585'},\n",
       " {'medicine': 'Med asA',\n",
       "  'date': '12-01',\n",
       "  'previous_hash': '2002a07ebcd6a2b525f8146a17351d27951419ccd1194511728c4f2566df9409'},\n",
       " {'medicine': 'Med B',\n",
       "  'date': '12-02',\n",
       "  'previous_hash': '25323567358d1a4614ffd1bb0b5b30192221144e2cd05ecf2c41ea2268b5564e'}]"
      ]
     },
     "execution_count": 11,
     "metadata": {},
     "output_type": "execute_result"
    }
   ],
   "source": [
    "med.getUserBlocks('user1')"
   ]
  },
  {
   "cell_type": "code",
   "execution_count": 12,
   "metadata": {},
   "outputs": [
    {
     "data": {
      "text/plain": [
       "True"
      ]
     },
     "execution_count": 12,
     "metadata": {},
     "output_type": "execute_result"
    }
   ],
   "source": [
    "med.checkIntegrity('user1',lastHash)"
   ]
  },
  {
   "cell_type": "code",
   "execution_count": null,
   "metadata": {},
   "outputs": [],
   "source": []
  }
 ],
 "metadata": {
  "kernelspec": {
   "display_name": "Python 3",
   "language": "python",
   "name": "python3"
  },
  "language_info": {
   "codemirror_mode": {
    "name": "ipython",
    "version": 3
   },
   "file_extension": ".py",
   "mimetype": "text/x-python",
   "name": "python",
   "nbconvert_exporter": "python",
   "pygments_lexer": "ipython3",
   "version": "3.11.1"
  }
 },
 "nbformat": 4,
 "nbformat_minor": 2
}
