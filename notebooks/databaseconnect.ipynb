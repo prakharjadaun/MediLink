{
 "cells": [
  {
   "cell_type": "code",
   "execution_count": 1,
   "metadata": {},
   "outputs": [],
   "source": [
    "import mysql.connector"
   ]
  },
  {
   "cell_type": "code",
   "execution_count": 3,
   "metadata": {},
   "outputs": [],
   "source": [
    "# conn = mysql.connector.connect(host='localhost',password='admin',user='root')"
   ]
  },
  {
   "cell_type": "code",
   "execution_count": 4,
   "metadata": {},
   "outputs": [],
   "source": [
    "# if conn.is_connected():\n",
    "#     print(\"Connection is established...!\")\n",
    "# else:\n",
    "#     print(\"Connection is not established\")"
   ]
  },
  {
   "cell_type": "code",
   "execution_count": 5,
   "metadata": {},
   "outputs": [],
   "source": [
    "# cur = conn.cursor()"
   ]
  },
  {
   "cell_type": "code",
   "execution_count": 2,
   "metadata": {},
   "outputs": [],
   "source": [
    "def connectDB():\n",
    "    conn = mysql.connector.connect(host='localhost',password='',user='')\n",
    "    if conn.is_connected():\n",
    "        print(\"Connection is established...!\")\n",
    "    else:\n",
    "        print(\"Connection is not established\")\n",
    "    cur = conn.cursor()\n",
    "    return conn,cur"
   ]
  },
  {
   "cell_type": "code",
   "execution_count": 3,
   "metadata": {},
   "outputs": [],
   "source": [
    "def createDB(cur):\n",
    "    cur.execute(\"CREATE DATABASE IF NOT EXISTS majorproject;\")\n",
    "    cur.execute(\"USE majorproject;\")\n",
    "    return cur"
   ]
  },
  {
   "cell_type": "code",
   "execution_count": 4,
   "metadata": {},
   "outputs": [],
   "source": [
    "def createTB(cur):\n",
    "    cur.execute(\"CREATE TABLE IF NOT EXISTS userdata (email varchar(255) PRIMARY KEY, pass VARCHAR(16), hash CHAR(64));\")\n",
    "    return cur"
   ]
  },
  {
   "cell_type": "code",
   "execution_count": 8,
   "metadata": {},
   "outputs": [],
   "source": [
    "def insertUser(email,password,cursor,conn,hash=\"\"):\n",
    "    check_query = \"SELECT * FROM userdata WHERE email = %s\"\n",
    "    cursor.execute(check_query, (email,))\n",
    "    existing_user = cursor.fetchone()\n",
    "\n",
    "    if existing_user:\n",
    "        print(\"Email already exists in the database.\")\n",
    "    else:\n",
    "        # Insert new user into the database\n",
    "        insert_query = \"INSERT INTO userdata (email, pass,hash) VALUES (%s, %s, %s)\"\n",
    "        cursor.execute(insert_query, (email, password,hash))\n",
    "        conn.commit()\n",
    "        print(\"User registered successfully!\")"
   ]
  },
  {
   "cell_type": "code",
   "execution_count": 9,
   "metadata": {},
   "outputs": [],
   "source": [
    "def authenticateUser(cur,username, password):\n",
    "    # Check if user exists and credentials match\n",
    "    query = \"SELECT * FROM userdata WHERE email = %s AND pass = %s\"\n",
    "    cur.execute(query, (username, password))\n",
    "    user = cur.fetchone()\n",
    "    if user:\n",
    "        print(\"Authentication successful!\")\n",
    "    else:\n",
    "        print(\"Invalid credentials!\")"
   ]
  },
  {
   "cell_type": "code",
   "execution_count": 10,
   "metadata": {},
   "outputs": [],
   "source": [
    "def updateHash(username,Hash,cur,conn):\n",
    "    query = \"UPDATE userdata set hash = %s where email = %s\"\n",
    "    cur.execute(query,(Hash,username))\n",
    "    conn.commit()"
   ]
  },
  {
   "cell_type": "code",
   "execution_count": 11,
   "metadata": {},
   "outputs": [],
   "source": [
    "def last_hash(username,cur,conn):\n",
    "    query = \"SELECT hash from userdata where email = %s\"\n",
    "    cur.execute(query,(username,))\n",
    "    result = cur.fetchall()\n",
    "    res = \"\"\n",
    "    for r in result:\n",
    "        res = r\n",
    "    return res"
   ]
  },
  {
   "cell_type": "code",
   "execution_count": 12,
   "metadata": {},
   "outputs": [
    {
     "name": "stdout",
     "output_type": "stream",
     "text": [
      "Connection is established...!\n"
     ]
    }
   ],
   "source": [
    "conn,cur = connectDB()"
   ]
  },
  {
   "cell_type": "code",
   "execution_count": 13,
   "metadata": {},
   "outputs": [],
   "source": [
    "cur = createDB(cur)"
   ]
  },
  {
   "cell_type": "code",
   "execution_count": 14,
   "metadata": {},
   "outputs": [],
   "source": [
    "cur = createTB(cur)"
   ]
  },
  {
   "cell_type": "code",
   "execution_count": 17,
   "metadata": {},
   "outputs": [
    {
     "name": "stdout",
     "output_type": "stream",
     "text": [
      "User registered successfully!\n"
     ]
    }
   ],
   "source": [
    "insertUser(\"\",\"\",cur,conn,hash='')"
   ]
  },
  {
   "cell_type": "code",
   "execution_count": 16,
   "metadata": {},
   "outputs": [],
   "source": [
    "updateHash('','',cur,conn)"
   ]
  },
  {
   "cell_type": "code",
   "execution_count": 19,
   "metadata": {},
   "outputs": [
    {
     "data": {
      "text/plain": [
       "0"
      ]
     },
     "execution_count": 19,
     "metadata": {},
     "output_type": "execute_result"
    }
   ],
   "source": [
    "temp = last_hash(username='',cur=cur,conn=conn)[0]\n",
    "len(temp)"
   ]
  },
  {
   "cell_type": "code",
   "execution_count": null,
   "metadata": {},
   "outputs": [],
   "source": [
    "# cur.execute(\"CREATE DATABASE IF NOT EXISTS majorproject;\")\n",
    "# cur.execute(\"USE majorproject;\")"
   ]
  },
  {
   "cell_type": "code",
   "execution_count": null,
   "metadata": {},
   "outputs": [],
   "source": [
    "# creating a table if not exists\n",
    "# varchar email (255)\n",
    "# varchar password (16)\n",
    "# cur.execute(\"CREATE TABLE IF NOT EXISTS userdata (email varchar(255) PRIMARY KEY, pass VARCHAR(16));\")"
   ]
  },
  {
   "cell_type": "code",
   "execution_count": null,
   "metadata": {},
   "outputs": [],
   "source": [
    "# deleting a database\n",
    "# cur.execute('DROP DATABASE myproject')\n",
    "# email = \"prakharjadaun@gmail.com\"\n",
    "# password = \"Pass@1234\"\n",
    "\n",
    "# cur.execute(\"INSERT INTO userdata (email,pass) VALUES (%s,%s)\",(email,password))\n",
    "# conn.commit()"
   ]
  },
  {
   "cell_type": "code",
   "execution_count": 12,
   "metadata": {},
   "outputs": [
    {
     "name": "stdout",
     "output_type": "stream",
     "text": [
      "('prakharjadaun@gmail.com', 'Pass@1234')\n",
      "('prakrati@gmail.com', 'Pass1234')\n"
     ]
    }
   ],
   "source": [
    "cur.execute(\"SELECT * FROM userdata;\")\n",
    "temp = cur.fetchall()\n",
    "for x in temp:\n",
    "    print(x)"
   ]
  },
  {
   "cell_type": "code",
   "execution_count": 16,
   "metadata": {},
   "outputs": [
    {
     "name": "stdout",
     "output_type": "stream",
     "text": [
      "Authentication successful!\n"
     ]
    }
   ],
   "source": [
    "authenticateUser(cur,\"\",\"\")"
   ]
  },
  {
   "cell_type": "code",
   "execution_count": null,
   "metadata": {},
   "outputs": [],
   "source": [
    "# cur.execute(\"INSERT INTO userdata (email,pass) VALUES (%s,%s)\",(email,password))\n",
    "# conn.commit()"
   ]
  },
  {
   "cell_type": "code",
   "execution_count": null,
   "metadata": {},
   "outputs": [],
   "source": [
    "# cur.execute('DROP DATABASE majorproject')\n",
    "# cur.execute(\"TRUNCATE TABLE userdata;\")"
   ]
  },
  {
   "cell_type": "code",
   "execution_count": 1,
   "metadata": {},
   "outputs": [],
   "source": [
    "from datetime import date"
   ]
  },
  {
   "cell_type": "code",
   "execution_count": 3,
   "metadata": {},
   "outputs": [
    {
     "data": {
      "text/plain": [
       "'02-12-2023'"
      ]
     },
     "execution_count": 3,
     "metadata": {},
     "output_type": "execute_result"
    }
   ],
   "source": [
    "date.today().strftime('%d-%m-%Y')"
   ]
  },
  {
   "cell_type": "code",
   "execution_count": null,
   "metadata": {},
   "outputs": [],
   "source": [
    "conn.close()"
   ]
  },
  {
   "cell_type": "code",
   "execution_count": null,
   "metadata": {},
   "outputs": [],
   "source": []
  }
 ],
 "metadata": {
  "kernelspec": {
   "display_name": "Python 3",
   "language": "python",
   "name": "python3"
  },
  "language_info": {
   "codemirror_mode": {
    "name": "ipython",
    "version": 3
   },
   "file_extension": ".py",
   "mimetype": "text/x-python",
   "name": "python",
   "nbconvert_exporter": "python",
   "pygments_lexer": "ipython3",
   "version": "3.11.1"
  }
 },
 "nbformat": 4,
 "nbformat_minor": 2
}
